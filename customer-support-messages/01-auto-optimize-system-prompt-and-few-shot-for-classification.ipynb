{
 "cells": [
  {
   "cell_type": "markdown",
   "metadata": {},
   "source": [
    "# Atuomatically Optimize Prompts + Few Shot Examples for Classification"
   ]
  },
  {
   "cell_type": "code",
   "execution_count": 4,
   "metadata": {
    "ExecuteTime": {
     "end_time": "2024-09-07T10:45:16.438547Z",
     "start_time": "2024-09-07T10:45:14.223140Z"
    },
    "id": "owK9C5ouULe7"
   },
   "outputs": [],
   "source": [
    "import pandas as pd\n",
    "\n",
    "!pip install 'adalflow[openai]' torch datasets matplotlib --quiet"
   ]
  },
  {
   "cell_type": "code",
   "execution_count": 6,
   "metadata": {
    "ExecuteTime": {
     "end_time": "2024-09-07T10:47:09.773058Z",
     "start_time": "2024-09-07T10:47:09.762875Z"
    }
   },
   "outputs": [],
   "source": [
    "df = pd.read_csv(\"train.csv\")"
   ]
  },
  {
   "cell_type": "code",
   "execution_count": 28,
   "metadata": {
    "ExecuteTime": {
     "end_time": "2024-09-07T11:05:04.404008Z",
     "start_time": "2024-09-07T11:05:04.345248Z"
    }
   },
   "outputs": [
    {
     "data": {
      "text/plain": [
       "class_name\n",
       "INVOICE         57\n",
       "PAYMENT         56\n",
       "DELIVERY        55\n",
       "FEEDBACK        55\n",
       "REFUND          55\n",
       "ACCOUNT         50\n",
       "CONTACT         49\n",
       "CANCEL          46\n",
       "SHIPPING        43\n",
       "ORDER           42\n",
       "SUBSCRIPTION    42\n",
       "Name: count, dtype: int64"
      ]
     },
     "execution_count": 28,
     "metadata": {},
     "output_type": "execute_result"
    }
   ],
   "source": [
    "# Jinja2 template of our prompt for optimizing the system prompt\n",
    "# + adding few shot examples to increase the performance of the model\n",
    "template = r\"\"\"<START_OF_SYSTEM_MESSAGE>\n",
    " {{system_prompt}}\n",
    " {% if output_format_str is not none %}\n",
    " {{output_format_str}}\n",
    " {% endif %}\n",
    " {% if few_shot_demos is not none %}\n",
    " Here are some examples:\n",
    " {{few_shot_demos}}\n",
    " {% endif %}\n",
    " <END_OF_SYSTEM_MESSAGE>\n",
    " <START_OF_USER_MESSAGE>\n",
    " {{input_str}}\n",
    " <END_OF_USER_MESSAGE>\n",
    " \"\"\"\n",
    "\n",
    "task_desc_template = r\"\"\"You are a classifier. Given a question, you need to classify it into one of the following classes:\n",
    " {% if classes %}\n",
    " {% for class in classes %}\n",
    " - {{class.label}}\n",
    " {% endfor %}\n",
    " {% endif %}\n",
    " Do not try to answer the question.\n",
    " \"\"\"\n",
    "\n",
    "from adalflow.datasets.types import BaseData\n",
    "from dataclasses import dataclass, field\n",
    "\n",
    "@dataclass\n",
    "class ClassificationDataClass(BaseData):\n",
    "    question: str = field(\n",
    "        metadata={\"desc\": \"The question to be classified\"},\n",
    "        default=None,\n",
    "    )\n",
    "    class_name: str = field(\n",
    "        metadata={\"desc\": \"The name of the class to which the question belongs\"},\n",
    "        default=None,\n",
    "    )\n",
    "    rationale: str = field(\n",
    "         metadata={\n",
    "             \"desc\": \"Your step-by-step reasoning to classify the question to class_name\"\n",
    "         },\n",
    "         default=None,\n",
    "     )\n",
    "    __input_fields__ = [\"question\"]\n",
    "    __output_fields__ = [\"rationale\", \"class_name\"] # it is important to have the rationale before the class_name\n",
    "\n",
    "\n",
    "# convert each record to a ClassificationDataClass object, and end up with a list of ClassificationDataClass objects\n",
    "df_train = pd.read_csv(\"train.csv\")\n",
    "train_dataset = [ClassificationDataClass( **record ) for record in df_train.to_dict(orient=\"records\")]\n",
    "val_dataset = [ClassificationDataClass( **record ) for record in pd.read_csv(\"val.csv\").to_dict(orient=\"records\")]\n",
    "test_dataset = [ClassificationDataClass( **record ) for record in pd.read_csv(\"test.csv\").to_dict(orient=\"records\")]\n",
    "\n",
    "CLASSES = df_train[\"class_name\"].value_counts()\n",
    "CLASSES"
   ]
  },
  {
   "cell_type": "markdown",
   "metadata": {},
   "source": [
    "We define an adaflow component to call the llm and request to classify a question."
   ]
  },
  {
   "cell_type": "code",
   "execution_count": 29,
   "metadata": {
    "ExecuteTime": {
     "end_time": "2024-09-07T11:05:07.379427Z",
     "start_time": "2024-09-07T11:05:07.368705Z"
    },
    "colab": {
     "base_uri": "https://localhost:8080/"
    },
    "id": "nAyJVA9lUds5",
    "outputId": "7ce664e4-1db1-4294-8e48-f88b1530f3ee"
   },
   "outputs": [],
   "source": [
    "from typing import List, Dict, Optional, Union, Tuple, Callable, Any\n",
    "import adalflow as adal\n",
    "\n",
    "\n",
    "class ClassificationStructuredOutput(adal.Component):\n",
    "    \n",
    "     def __init__(self, classes: List[str], data_class: ClassificationDataClass, model_client: adal.ModelClient, model_kwargs: Dict):\n",
    "         super().__init__()\n",
    "         \n",
    "         task_desc_str = adal.Prompt(\n",
    "             template=task_desc_template, prompt_kwargs={\"classes\":  [\n",
    "             {\"label\": label}\n",
    "             for label in classes\n",
    "         ]}\n",
    "         )()\n",
    "\n",
    "         self.data_class = data_class\n",
    "         self.data_class.set_task_desc(task_desc_str)\n",
    "\n",
    "         self.parser = adal.DataClassParser(\n",
    "             data_class=self.data_class, return_data_class=True, format_type=\"yaml\"\n",
    "         )\n",
    "\n",
    "         prompt_kwargs = {\n",
    "             \"system_prompt\": adal.Parameter(\n",
    "                 data=self.parser.get_task_desc_str(),\n",
    "                 role_desc=\"Task description\",\n",
    "                 requires_opt=True,\n",
    "                 param_type=adal.ParameterType.PROMPT,\n",
    "             ),\n",
    "             \"output_format_str\": adal.Parameter(\n",
    "                 data=self.parser.get_output_format_str(),\n",
    "                 role_desc=\"Output format requirements\",\n",
    "                 requires_opt=False,\n",
    "                 param_type=adal.ParameterType.PROMPT,\n",
    "             ),\n",
    "             \"few_shot_demos\": adal.Parameter(\n",
    "                 data=None,\n",
    "                 requires_opt=True,\n",
    "                 role_desc=\"Few shot examples to help the model\",\n",
    "                 param_type=adal.ParameterType.DEMOS,\n",
    "             ),\n",
    "         }\n",
    "\n",
    "         self.llm = adal.Generator(\n",
    "             model_client=model_client,\n",
    "             model_kwargs=model_kwargs,\n",
    "             prompt_kwargs=prompt_kwargs,\n",
    "             template=template,\n",
    "             output_processors=self.parser,\n",
    "             use_cache=True,\n",
    "         )\n",
    "\n",
    "     def _prepare_input(self, question: str):\n",
    "         input_data = self.data_class(question=question)\n",
    "         input_str = self.parser.get_input_str(input_data)\n",
    "         prompt_kwargs = {\n",
    "             \"input_str\": adal.Parameter(\n",
    "                 data=input_str, requires_opt=False, role_desc=\"input to the LLM\"\n",
    "             )\n",
    "         }\n",
    "         return prompt_kwargs\n",
    "\n",
    "     def call(\n",
    "         self, question: str, id: Optional[str] = None\n",
    "     ) -> Union[adal.GeneratorOutput, adal.Parameter]:\n",
    "         prompt_kwargs = self._prepare_input(question)\n",
    "         output = self.llm(prompt_kwargs=prompt_kwargs, id=id)\n",
    "         return output"
   ]
  },
  {
   "cell_type": "markdown",
   "metadata": {},
   "source": [
    "We define a component that will be used to train the model. This component will use the ClassificationStructuredOutput component to classify the questions."
   ]
  },
  {
   "cell_type": "code",
   "execution_count": 30,
   "metadata": {
    "ExecuteTime": {
     "end_time": "2024-09-07T11:05:08.675135Z",
     "start_time": "2024-09-07T11:05:08.664630Z"
    },
    "id": "3ga-FmxXVL5c"
   },
   "outputs": [],
   "source": [
    "from adalflow.eval.answer_match_acc import AnswerMatchAcc\n",
    "\n",
    "class ClassificationComponent(adal.AdalComponent):\n",
    "    def __init__(\n",
    "        self,\n",
    "        classification_structured_output: ClassificationStructuredOutput,\n",
    "        teacher_model_config: Dict,\n",
    "        backward_engine_model_config: Dict,\n",
    "        text_optimizer_model_config: Dict,\n",
    "    ):\n",
    "        task = classification_structured_output\n",
    "        # We use the exact match accuracy as the evaluation metric, it's either 1 or 0.\n",
    "        eval_fn = AnswerMatchAcc(type=\"exact_match\").compute_single_item\n",
    "        # Returns a float in range [0, 1], and the higher the better.\n",
    "        loss_fn = adal.EvalFnToTextLoss(\n",
    "            eval_fn=eval_fn,\n",
    "            eval_fn_desc=\"exact_match: 1 if str(y) == str(y_gt) else 0\",\n",
    "        )\n",
    "        super().__init__(\n",
    "            task=task,\n",
    "            eval_fn=eval_fn,\n",
    "            loss_fn=loss_fn,\n",
    "            backward_engine_model_config=backward_engine_model_config,\n",
    "            text_optimizer_model_config=text_optimizer_model_config,\n",
    "            teacher_model_config=teacher_model_config,\n",
    "        )\n",
    "\n",
    "    def handle_one_task_sample(self, sample: ClassificationDataClass):\n",
    "        \"\"\"We return a tuple of the call function and the kwargs to be passed to the call function.\n",
    "        You can find the implementation of the call function in the ClassificationStructuredOutput class.\"\"\"\n",
    "        return self.task.call, {\"question\": sample.question, \"id\": sample.id}\n",
    "\n",
    "    def evaluate_one_sample(\n",
    "        self, sample: ClassificationDataClass, y_pred: adal.GeneratorOutput\n",
    "    ) -> float:\n",
    "        \"\"\"We evaluate the model's prediction on a single sample. We return a float value as the evaluation metric.\"\"\"\n",
    "        y_label = -1\n",
    "        if y_pred and y_pred.data is not None and y_pred.data.class_name is not None:\n",
    "            y_label = y_pred.data.class_name\n",
    "        return self.eval_fn(y_label, sample.class_name)\n",
    "\n",
    "    def handle_one_loss_sample(\n",
    "        self, sample: ClassificationDataClass, y_pred: adal.Parameter, *args, **kwargs\n",
    "    ) -> Tuple[Callable[..., Any], Dict]:\n",
    "        \"\"\"We return a tuple of the loss function and the kwargs to be passed to the loss function.\"\"\"\n",
    "        full_response = y_pred.full_response\n",
    "        y_label = -1\n",
    "        if (\n",
    "            full_response\n",
    "            and full_response.data is not None\n",
    "            and full_response.data.class_name is not None\n",
    "        ):\n",
    "            y_label = full_response.data.class_name\n",
    "\n",
    "        y_pred.eval_input = y_label\n",
    "        y_gt = adal.Parameter(\n",
    "            name=\"y_gt\",\n",
    "            data=sample.class_name,\n",
    "            eval_input=sample.class_name,\n",
    "            requires_opt=False,\n",
    "        )\n",
    "        return self.loss_fn, {\"kwargs\": {\"y\": y_pred, \"y_gt\": y_gt}}\n",
    "\n",
    "    def configure_teacher_generator(self):\n",
    "        super().configure_teacher_generator_helper(**self.teacher_model_config)\n",
    "\n",
    "    def configure_backward_engine(self):\n",
    "        super().configure_backward_engine_helper(**self.backward_engine_model_config)\n",
    "\n",
    "    def configure_optimizers(self):\n",
    "        to = super().configure_text_optimizer_helper(**self.text_optimizer_model_config)\n",
    "        do = super().configure_demo_optimizer_helper()\n",
    "        return to + do"
   ]
  },
  {
   "cell_type": "code",
   "execution_count": null,
   "metadata": {
    "ExecuteTime": {
     "end_time": "2024-09-07T11:11:00.083080Z",
     "start_time": "2024-09-07T11:05:09.193686Z"
    }
   },
   "outputs": [],
   "source": [
    "from datasets import Dataset\n",
    "\n",
    "def train(\n",
    "    classification_component: ClassificationComponent,\n",
    "    train_dataset: Dataset,\n",
    "    test_dataset: Dataset = None,\n",
    "    val_dataset: Dataset = None,\n",
    "    train_batch_size=4,  # larger batch size is not that effective, probably because of llm's lost in the middle\n",
    "    raw_shots: int = 0,\n",
    "    bootstrap_shots: int = 1,\n",
    "    max_steps=12,\n",
    "    num_workers=1,\n",
    "    strategy=\"constrained\",\n",
    "    optimization_order=\"sequential\",\n",
    "    debug=False,\n",
    "):\n",
    "\n",
    "    trainer = adal.Trainer(\n",
    "        train_batch_size=train_batch_size,\n",
    "        adaltask=classification_component,\n",
    "        strategy=strategy,\n",
    "        max_steps=max_steps,\n",
    "        num_workers=num_workers,\n",
    "        raw_shots=raw_shots,\n",
    "        bootstrap_shots=bootstrap_shots,\n",
    "        debug=debug,\n",
    "        weighted_sampling=True,\n",
    "        optimization_order=optimization_order,\n",
    "        exclude_input_fields_from_bootstrap_demos=True,\n",
    "    )\n",
    "    trainer.fit(\n",
    "        train_dataset=train_dataset,\n",
    "        val_dataset=val_dataset,\n",
    "        test_dataset=test_dataset,\n",
    "        debug=debug,\n",
    "    )\n",
    "    return trainer\n",
    "    \n",
    "from adalflow.components.model_client.openai_client import OpenAIClient\n",
    "\n",
    "gpt_4o_mini_model = {\n",
    "    \"model_client\": OpenAIClient(input_type=\"text\"),\n",
    "    \"model_kwargs\": {\n",
    "        \"model\": \"gpt-4o-mini\",\n",
    "        \"max_tokens\": 2000,\n",
    "        \"temperature\": 0.0,\n",
    "        \"top_p\": 0.99,\n",
    "        \"frequency_penalty\": 0,\n",
    "        \"presence_penalty\": 0,\n",
    "        \"stop\": None,\n",
    "    },\n",
    "}\n",
    "\n",
    "\n",
    "gpt_4o_model = {\n",
    "    \"model_client\": OpenAIClient(),\n",
    "    \"model_kwargs\": {\n",
    "        \"model\": \"gpt-4o\",\n",
    "        \"temperature\": 1,\n",
    "        \"top_p\": 0.99,\n",
    "        \"max_tokens\": 1000,\n",
    "        # \"frequency_penalty\": 1,  # high for nto repeating prompt\n",
    "    },\n",
    "}\n",
    "\n",
    "# Config for generating the classification\n",
    "classification_structured_output = ClassificationStructuredOutput(\n",
    "    **gpt_4o_mini_model,\n",
    "    classes=CLASSES,\n",
    "    data_class=ClassificationDataClass,\n",
    ")\n",
    "    \n",
    "# Config for the training configuration\n",
    "classification_component = ClassificationComponent(\n",
    "    classification_structured_output=classification_structured_output,\n",
    "    text_optimizer_model_config=gpt_4o_model,\n",
    "    backward_engine_model_config=gpt_4o_model,\n",
    "    teacher_model_config=gpt_4o_model,\n",
    ")\n",
    "\n",
    "\n",
    "train_object = train(\n",
    "    classification_component=classification_component,\n",
    "    train_dataset=train_dataset,\n",
    "    val_dataset=val_dataset,\n",
    "    test_dataset=test_dataset,\n",
    "    debug=False,\n",
    "    max_steps=12,\n",
    "    strategy=\"constrained\",\n",
    "    optimization_order=\"sequential\"\n",
    ")\n"
   ]
  },
  {
   "cell_type": "code",
   "execution_count": 26,
   "metadata": {
    "ExecuteTime": {
     "end_time": "2024-09-02T10:41:20.692487Z",
     "start_time": "2024-09-02T10:41:20.685079Z"
    }
   },
   "outputs": [],
   "source": [
    "import json\n",
    "ckpt_file = json.load(open(train_object.ckpt_file))"
   ]
  },
  {
   "cell_type": "code",
   "execution_count": 29,
   "metadata": {
    "ExecuteTime": {
     "end_time": "2024-09-02T10:42:01.569235Z",
     "start_time": "2024-09-02T10:42:01.565525Z"
    }
   },
   "outputs": [],
   "source": [
    "test_scores = ckpt_file[\"test_scores\"]"
   ]
  },
  {
   "cell_type": "code",
   "execution_count": 30,
   "metadata": {
    "ExecuteTime": {
     "end_time": "2024-09-02T10:43:30.926166Z",
     "start_time": "2024-09-02T10:43:29.291583Z"
    }
   },
   "outputs": [
    {
     "data": {
      "image/png": "[encoded data removed]",
      "text/plain": [
       "<Figure size 1000x600 with 1 Axes>"
      ]
     },
     "metadata": {},
     "output_type": "display_data"
    }
   ],
   "source": [
    "import matplotlib.pyplot as plt\n",
    "\n",
    "methods = [\"system prompt optimization\"] * 12 + [\n",
    "    \"few-shot examples optimization\"\n",
    "] * 12\n",
    "plt.figure(figsize=(10, 6))\n",
    "plt.plot(\n",
    "    range(1, 13),\n",
    "    test_scores[:12],\n",
    "    marker=\"o\",\n",
    "    label=\"system prompt optimization\",\n",
    ")\n",
    "plt.plot(\n",
    "    range(13, 25),\n",
    "    test_scores[12:24],\n",
    "    marker=\"o\",\n",
    "    label=\"few-shot examples optimization\",\n",
    ")\n",
    "\n",
    "plt.axvline(x=12.5, color=\"gray\", linestyle=\"--\")  # Divider between methods\n",
    "\n",
    "plt.xlabel(\"Steps\")\n",
    "plt.ylabel(\"Test Accuracy\")\n",
    "plt.title(\"Sequential Optimization of system prompts + few-shots\")\n",
    "plt.legend()\n",
    "plt.grid(True)\n",
    "\n",
    "plt.show()"
   ]
  },
  {
   "cell_type": "code",
   "execution_count": null,
   "metadata": {},
   "outputs": [],
   "source": []
  }
 ],
 "metadata": {
  "colab": {
   "provenance": []
  },
  "kernelspec": {
   "display_name": "Python 3 (ipykernel)",
   "language": "python",
   "name": "python3"
  },
  "language_info": {
   "codemirror_mode": {
    "name": "ipython",
    "version": 3
   },
   "file_extension": ".py",
   "mimetype": "text/x-python",
   "name": "python",
   "nbconvert_exporter": "python",
   "pygments_lexer": "ipython3",
   "version": "3.11.6"
  }
 },
 "nbformat": 4,
 "nbformat_minor": 0
}
