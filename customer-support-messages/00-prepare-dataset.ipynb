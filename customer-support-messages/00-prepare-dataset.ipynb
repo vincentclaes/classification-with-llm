{
 "cells": [
  {
   "cell_type": "markdown",
   "id": "92df03fed992a88f",
   "metadata": {},
   "source": [
    "# Prepare the dataset\n",
    "\n",
    "We load a dataset with messages from customers that are assigned to different categories (invoices, orders, etc.)\n",
    "\n",
    "We will use this dataset to tune a prompt that can classify a message into one of these categories, with an accuracy as high as possible.\n",
    "\n",
    "https://huggingface.co/datasets/bitext/Bitext-customer-support-llm-chatbot-training-dataset"
   ]
  },
  {
   "cell_type": "code",
   "execution_count": 28,
   "id": "223b89b2ca7e9a58",
   "metadata": {
    "ExecuteTime": {
     "end_time": "2024-09-07T11:02:26.757868Z",
     "start_time": "2024-09-07T11:02:24.920066Z"
    }
   },
   "outputs": [
    {
     "name": "stdout",
     "output_type": "stream",
     "text": [
      "Note: you may need to restart the kernel to use updated packages.\n"
     ]
    }
   ],
   "source": [
    "pip install datasets --quiet"
   ]
  },
  {
   "cell_type": "code",
   "execution_count": 29,
   "id": "d7d021e458c3c3",
   "metadata": {
    "ExecuteTime": {
     "end_time": "2024-09-07T11:02:28.892334Z",
     "start_time": "2024-09-07T11:02:26.762649Z"
    }
   },
   "outputs": [
    {
     "data": {
      "text/plain": [
       "Dataset({\n",
       "    features: ['flags', 'instruction', 'category', 'intent', 'response'],\n",
       "    num_rows: 26872\n",
       "})"
      ]
     },
     "execution_count": 29,
     "metadata": {},
     "output_type": "execute_result"
    }
   ],
   "source": [
    "from datasets import load_dataset\n",
    "\n",
    "dataset = load_dataset(\n",
    "    \"bitext/Bitext-customer-support-llm-chatbot-training-dataset\", split=\"train\"\n",
    ")\n",
    "dataset"
   ]
  },
  {
   "cell_type": "code",
   "execution_count": 30,
   "id": "64c2e44f29136c4d",
   "metadata": {
    "ExecuteTime": {
     "end_time": "2024-09-07T11:02:28.939894Z",
     "start_time": "2024-09-07T11:02:28.894731Z"
    }
   },
   "outputs": [
    {
     "data": {
      "text/plain": [
       "['INVOICE',\n",
       " 'PAYMENT',\n",
       " 'SUBSCRIPTION',\n",
       " 'FEEDBACK',\n",
       " 'CANCEL',\n",
       " 'DELIVERY',\n",
       " 'ORDER',\n",
       " 'SHIPPING',\n",
       " 'REFUND',\n",
       " 'CONTACT',\n",
       " 'ACCOUNT']"
      ]
     },
     "execution_count": 30,
     "metadata": {},
     "output_type": "execute_result"
    }
   ],
   "source": [
    "CLASSES = list(set(dataset[\"category\"]))\n",
    "CLASSES"
   ]
  },
  {
   "cell_type": "markdown",
   "id": "78fd66a84cc278ba",
   "metadata": {},
   "source": [
    "### CONSTANTS"
   ]
  },
  {
   "cell_type": "code",
   "execution_count": 48,
   "id": "5a2b8a06a24010d5",
   "metadata": {
    "ExecuteTime": {
     "end_time": "2024-09-07T11:04:47.812570Z",
     "start_time": "2024-09-07T11:04:47.809501Z"
    }
   },
   "outputs": [],
   "source": [
    "N = 200  # Number of samples per class / category\n",
    "TRAIN_TEST_SPLIT = 0.75  # split dataset in trian and test\n",
    "TEST_VAL_SPLIT = 0.7  # spit test in test and validation"
   ]
  },
  {
   "cell_type": "code",
   "execution_count": 49,
   "id": "6b235bc7ea437e45",
   "metadata": {
    "ExecuteTime": {
     "end_time": "2024-09-07T11:04:49.693368Z",
     "start_time": "2024-09-07T11:04:47.995380Z"
    }
   },
   "outputs": [
    {
     "name": "stdout",
     "output_type": "stream",
     "text": [
      "category\n",
      "ACCOUNT         200\n",
      "CANCEL          200\n",
      "CONTACT         200\n",
      "DELIVERY        200\n",
      "FEEDBACK        200\n",
      "INVOICE         200\n",
      "ORDER           200\n",
      "PAYMENT         200\n",
      "REFUND          200\n",
      "SHIPPING        200\n",
      "SUBSCRIPTION    200\n",
      "Name: count, dtype: int64\n"
     ]
    },
    {
     "name": "stderr",
     "output_type": "stream",
     "text": [
      "/var/folders/sj/3t0z94yj4m12rfbjsb8x5j5r0000gn/T/ipykernel_51113/2264473832.py:11: DeprecationWarning: DataFrameGroupBy.apply operated on the grouping columns. This behavior is deprecated, and in a future version of pandas the grouping columns will be excluded from the operation. Either pass `include_groups=False` to exclude the groupings or explicitly select the grouping columns after groupby to silence this warning.\n",
      "  sampled_df = grouped.apply(lambda x: x.sample(n=N, random_state=42)).reset_index(drop=True)\n"
     ]
    }
   ],
   "source": [
    "import pandas as pd\n",
    "from datasets import Dataset\n",
    "\n",
    "# Convert the dataset to a pandas DataFrame\n",
    "df = pd.DataFrame(dataset)\n",
    "# add an id column\n",
    "df = df.reset_index(drop=False).rename(columns={\"index\": \"id\"})\n",
    "# Group by the label column\n",
    "grouped = df.groupby(\"category\")\n",
    "# Sample 100 records from each label\n",
    "sampled_df = grouped.apply(lambda x: x.sample(n=N, random_state=42)).reset_index(\n",
    "    drop=True\n",
    ")\n",
    "# Convert the sampled DataFrame back to a Hugging Face dataset\n",
    "sampled_dataset = Dataset.from_pandas(sampled_df)\n",
    "print(sampled_df[\"category\"].value_counts())\n",
    "shuffled_dataset = sampled_dataset.shuffle()"
   ]
  },
  {
   "cell_type": "markdown",
   "id": "59fae02c4a0559d",
   "metadata": {},
   "source": [
    "Select only the relevant columns and rename them according to the class ClassificationDataClass"
   ]
  },
  {
   "cell_type": "code",
   "execution_count": 50,
   "id": "initial_id",
   "metadata": {
    "ExecuteTime": {
     "end_time": "2024-09-07T11:04:49.738468Z",
     "start_time": "2024-09-07T11:04:49.696296Z"
    },
    "collapsed": true
   },
   "outputs": [
    {
     "data": {
      "application/vnd.jupyter.widget-view+json": {
       "model_id": "a17712d39eda4883bcd2a87843a39421",
       "version_major": 2,
       "version_minor": 0
      },
      "text/plain": [
       "Creating CSV from Arrow format:   0%|          | 0/3 [00:00<?, ?ba/s]"
      ]
     },
     "metadata": {},
     "output_type": "display_data"
    },
    {
     "data": {
      "text/plain": [
       "Dataset({\n",
       "    features: ['class_name', 'question', 'id'],\n",
       "    num_rows: 2200\n",
       "})"
      ]
     },
     "execution_count": 50,
     "metadata": {},
     "output_type": "execute_result"
    }
   ],
   "source": [
    "selected_cols_dataset = shuffled_dataset.select_columns(\n",
    "    [\"category\", \"instruction\", \"id\"]\n",
    ")\n",
    "renamed_dataset = selected_cols_dataset.rename_column(\n",
    "    \"category\", \"class_name\"\n",
    ").rename_column(\"instruction\", \"question\")\n",
    "full_dataset = renamed_dataset\n",
    "full_dataset.to_csv(\"full_dataset.csv\")\n",
    "full_dataset"
   ]
  },
  {
   "cell_type": "code",
   "execution_count": 51,
   "id": "253f6caf178a8f66",
   "metadata": {
    "ExecuteTime": {
     "end_time": "2024-09-07T11:04:49.832948Z",
     "start_time": "2024-09-07T11:04:49.740519Z"
    }
   },
   "outputs": [
    {
     "data": {
      "application/vnd.jupyter.widget-view+json": {
       "model_id": "1ebf7d390fdc4a25a207e7bb68c72e36",
       "version_major": 2,
       "version_minor": 0
      },
      "text/plain": [
       "Creating CSV from Arrow format:   0%|          | 0/1 [00:00<?, ?ba/s]"
      ]
     },
     "metadata": {},
     "output_type": "display_data"
    },
    {
     "data": {
      "application/vnd.jupyter.widget-view+json": {
       "model_id": "dac583ea2a3e407986b5299426081c9c",
       "version_major": 2,
       "version_minor": 0
      },
      "text/plain": [
       "Creating CSV from Arrow format:   0%|          | 0/1 [00:00<?, ?ba/s]"
      ]
     },
     "metadata": {},
     "output_type": "display_data"
    },
    {
     "data": {
      "application/vnd.jupyter.widget-view+json": {
       "model_id": "d27063dc6f444aa1af357cb701274c58",
       "version_major": 2,
       "version_minor": 0
      },
      "text/plain": [
       "Creating CSV from Arrow format:   0%|          | 0/2 [00:00<?, ?ba/s]"
      ]
     },
     "metadata": {},
     "output_type": "display_data"
    },
    {
     "data": {
      "text/plain": [
       "71935"
      ]
     },
     "execution_count": 51,
     "metadata": {},
     "output_type": "execute_result"
    }
   ],
   "source": [
    "# Split the dataset into train and test (70% train, 30% test)\n",
    "train_test_split = full_dataset.train_test_split(test_size=TRAIN_TEST_SPLIT)\n",
    "# Further split the test set into validation and test sets (50% validation, 50% test)\n",
    "val_test_split = train_test_split[\"test\"].train_test_split(test_size=TEST_VAL_SPLIT)\n",
    "\n",
    "train = train_test_split[\"train\"]\n",
    "train.to_csv(\"train.csv\")\n",
    "val = val_test_split[\"train\"]\n",
    "val.to_csv(\"val.csv\")\n",
    "test = val_test_split[\"test\"]\n",
    "test.to_csv(\"test.csv\")"
   ]
  },
  {
   "cell_type": "code",
   "execution_count": 52,
   "id": "40f29295d65e603f",
   "metadata": {
    "ExecuteTime": {
     "end_time": "2024-09-07T11:04:49.850037Z",
     "start_time": "2024-09-07T11:04:49.837354Z"
    }
   },
   "outputs": [
    {
     "data": {
      "text/plain": [
       "class_name\n",
       "INVOICE         57\n",
       "PAYMENT         56\n",
       "DELIVERY        55\n",
       "FEEDBACK        55\n",
       "REFUND          55\n",
       "ACCOUNT         50\n",
       "CONTACT         49\n",
       "CANCEL          46\n",
       "SHIPPING        43\n",
       "ORDER           42\n",
       "SUBSCRIPTION    42\n",
       "Name: count, dtype: int64"
      ]
     },
     "execution_count": 52,
     "metadata": {},
     "output_type": "execute_result"
    }
   ],
   "source": [
    "train.to_pandas()[\"class_name\"].value_counts()"
   ]
  },
  {
   "cell_type": "code",
   "execution_count": 53,
   "id": "a71fb05ca1428e51",
   "metadata": {
    "ExecuteTime": {
     "end_time": "2024-09-07T11:04:49.862611Z",
     "start_time": "2024-09-07T11:04:49.852241Z"
    }
   },
   "outputs": [
    {
     "data": {
      "text/plain": [
       "class_name\n",
       "CANCEL          55\n",
       "CONTACT         55\n",
       "DELIVERY        49\n",
       "SUBSCRIPTION    48\n",
       "INVOICE         44\n",
       "ACCOUNT         44\n",
       "REFUND          43\n",
       "SHIPPING        40\n",
       "FEEDBACK        39\n",
       "ORDER           39\n",
       "PAYMENT         39\n",
       "Name: count, dtype: int64"
      ]
     },
     "execution_count": 53,
     "metadata": {},
     "output_type": "execute_result"
    }
   ],
   "source": [
    "val.to_pandas()[\"class_name\"].value_counts()"
   ]
  },
  {
   "cell_type": "code",
   "execution_count": 54,
   "id": "c8fa4dd168e49527",
   "metadata": {
    "ExecuteTime": {
     "end_time": "2024-09-07T11:04:50.320327Z",
     "start_time": "2024-09-07T11:04:50.297705Z"
    }
   },
   "outputs": [
    {
     "data": {
      "text/plain": [
       "class_name\n",
       "ORDER           119\n",
       "SHIPPING        117\n",
       "SUBSCRIPTION    110\n",
       "ACCOUNT         106\n",
       "FEEDBACK        106\n",
       "PAYMENT         105\n",
       "REFUND          102\n",
       "CANCEL           99\n",
       "INVOICE          99\n",
       "CONTACT          96\n",
       "DELIVERY         96\n",
       "Name: count, dtype: int64"
      ]
     },
     "execution_count": 54,
     "metadata": {},
     "output_type": "execute_result"
    }
   ],
   "source": [
    "test.to_pandas()[\"class_name\"].value_counts()"
   ]
  }
 ],
 "metadata": {
  "kernelspec": {
   "display_name": "Python 3",
   "language": "python",
   "name": "python3"
  },
  "language_info": {
   "codemirror_mode": {
    "name": "ipython",
    "version": 2
   },
   "file_extension": ".py",
   "mimetype": "text/x-python",
   "name": "python",
   "nbconvert_exporter": "python",
   "pygments_lexer": "ipython2",
   "version": "2.7.6"
  }
 },
 "nbformat": 4,
 "nbformat_minor": 5
}
