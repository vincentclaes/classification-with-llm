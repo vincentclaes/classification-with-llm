{
 "cells": [
  {
   "metadata": {},
   "cell_type": "markdown",
   "source": "# Fine tune GPT-4o-mini for classification\n",
   "id": "cd49b310bd60ef77"
  },
  {
   "metadata": {
    "ExecuteTime": {
     "end_time": "2024-09-24T18:45:49.414767Z",
     "start_time": "2024-09-24T18:45:47.940016Z"
    }
   },
   "cell_type": "code",
   "source": "!pip install openai --quiet",
   "id": "46b7a5c0762f582e",
   "outputs": [],
   "execution_count": 1
  },
  {
   "metadata": {
    "ExecuteTime": {
     "end_time": "2024-09-24T18:45:50.141622Z",
     "start_time": "2024-09-24T18:45:50.137048Z"
    }
   },
   "cell_type": "code",
   "source": [
    "SYSTEM_PROMPT = \"\"\"You are a review classifier. Given a review, you need to assign it a number of stars. 1 is the lowest rating, and 5 is the highest rating. Assign the review to the correct number of stars. The amount of stars you can pick from is:\\n - 1\\n - 2\\n - 3\\n - 4\\n - 5\\n\\n\n",
    "Do not try to answer the question.\"\"\""
   ],
   "id": "e3c3d71f6e53d36d",
   "outputs": [],
   "execution_count": 2
  },
  {
   "metadata": {
    "ExecuteTime": {
     "end_time": "2024-09-24T18:45:53.487502Z",
     "start_time": "2024-09-24T18:45:52.017672Z"
    }
   },
   "cell_type": "code",
   "source": [
    "# read train.csv and loop over the rows and take the question column, and the class_name column\n",
    "# and create a list of objects that look like this:\n",
    "# {\n",
    "#         \"messages\": [\n",
    "#             {\"role\": \"system\", \"content\":SYSTEM_PROMPT},\n",
    "#             {\"role\": \"user\", \"content\": << column question>>},\n",
    "#             {\"role\": \"assistant\",\n",
    "#              \"content\": \"<< column class_name >>\"}\n",
    "#         ]\n",
    "# }\n",
    "import pandas as pd\n",
    "df_train = pd.read_csv('train.csv')\n",
    "df_val = pd.read_csv('val.csv')\n",
    "\n",
    "def convert_to_messages(df):\n",
    "    data = []\n",
    "    for i, row in df.iterrows():\n",
    "        data.append({\n",
    "            \"messages\": [\n",
    "                {\"role\": \"system\", \"content\":SYSTEM_PROMPT},\n",
    "                {\"role\": \"user\", \"content\": str(row['question'])},\n",
    "                {\"role\": \"assistant\",\n",
    "                 \"content\": str(row['class_name'])}\n",
    "            ]\n",
    "        })\n",
    "    return data\n",
    "\n",
    "data_train = convert_to_messages(df_train)\n",
    "data_val = convert_to_messages(df_val)\n",
    "    "
   ],
   "id": "963716d5b6e1edcd",
   "outputs": [],
   "execution_count": 3
  },
  {
   "metadata": {
    "ExecuteTime": {
     "end_time": "2024-09-24T18:45:56.359571Z",
     "start_time": "2024-09-24T18:45:56.341925Z"
    }
   },
   "cell_type": "code",
   "source": [
    "import json\n",
    "\n",
    "def to_openai_format(data, file_path):\n",
    "    with open(\n",
    "            file_path, \"w\", encoding=\"utf-8\"\n",
    "    ) as file:\n",
    "        for record in data:\n",
    "            json_line = json.dumps(record)\n",
    "            file.write(json_line + \"\\n\")\n",
    "\n",
    "TRAIN_OPENAI_FILE = \"train-openai.jsonl\"\n",
    "VAL_OPENAI_FILE = \"val-openai.jsonl\"\n",
    "to_openai_format(data=data_train, file_path=TRAIN_OPENAI_FILE)\n",
    "to_openai_format(data=data_val, file_path=VAL_OPENAI_FILE)\n"
   ],
   "id": "28ee3b00ec8ec59a",
   "outputs": [],
   "execution_count": 4
  },
  {
   "metadata": {
    "ExecuteTime": {
     "end_time": "2024-09-24T18:46:00.756241Z",
     "start_time": "2024-09-24T18:46:00.734070Z"
    }
   },
   "cell_type": "code",
   "source": [
    "\n",
    "from collections import defaultdict\n",
    "from pathlib import Path\n",
    "\n",
    "\n",
    "def validate_dataset_format(dataset_path: Path):\n",
    "    # todo - check if last message is assistant message\n",
    "    print(f\"Validating dataset format for {dataset_path}\")\n",
    "    # Format error checks\n",
    "    format_errors = defaultdict(int)\n",
    "\n",
    "    # Load the dataset\n",
    "    with open(dataset_path, 'r', encoding='utf-8') as f:\n",
    "        dataset = [json.loads(line) for line in f]\n",
    "\n",
    "    for ex in dataset:\n",
    "        if not isinstance(ex, dict):\n",
    "            format_errors[\"data_type\"] += 1\n",
    "            continue\n",
    "\n",
    "        messages = ex.get(\"messages\", None)\n",
    "        if not messages:\n",
    "            format_errors[\"missing_messages_list\"] += 1\n",
    "            continue\n",
    "\n",
    "        for message in messages:\n",
    "            if \"role\" not in message or \"content\" not in message:\n",
    "                format_errors[\"message_missing_key\"] += 1\n",
    "\n",
    "            if any(k not in (\"role\", \"content\", \"name\", \"function_call\", \"weight\") for k in message):\n",
    "                format_errors[\"message_unrecognized_key\"] += 1\n",
    "\n",
    "            if message.get(\"role\", None) not in (\"system\", \"user\", \"assistant\", \"function\"):\n",
    "                format_errors[\"unrecognized_role\"] += 1\n",
    "\n",
    "            content = message.get(\"content\", None)\n",
    "            function_call = message.get(\"function_call\", None)\n",
    "\n",
    "            if (not content and not function_call) or not isinstance(content, str):\n",
    "                format_errors[\"missing_content\"] += 1\n",
    "\n",
    "        if not any(message.get(\"role\", None) == \"assistant\" for message in messages):\n",
    "            format_errors[\"example_missing_assistant_message\"] += 1\n",
    "\n",
    "        assert messages[-1].get(\"role\") == \"assistant\", f\"{messages} \\n Last message should be assistant message\"\n",
    "\n",
    "    if format_errors:\n",
    "        print(\"Found errors:\")\n",
    "        for k, v in format_errors.items():\n",
    "            print(f\"{k}: {v}\")\n",
    "    else:\n",
    "        print(\"No errors found\")\n",
    "\n",
    "validate_dataset_format(Path(TRAIN_OPENAI_FILE))\n",
    "validate_dataset_format(Path(VAL_OPENAI_FILE))"
   ],
   "id": "d4a0b24f4719bbf8",
   "outputs": [
    {
     "name": "stdout",
     "output_type": "stream",
     "text": [
      "Validating dataset format for train-openai.jsonl\n",
      "No errors found\n",
      "Validating dataset format for val-openai.jsonl\n",
      "No errors found\n"
     ]
    }
   ],
   "execution_count": 5
  },
  {
   "metadata": {
    "ExecuteTime": {
     "end_time": "2024-09-24T18:48:15.379759Z",
     "start_time": "2024-09-24T18:48:14.346904Z"
    }
   },
   "cell_type": "code",
   "source": [
    "import openai\n",
    "\n",
    "client = openai.OpenAI()\n"
   ],
   "id": "b764f095f856f485",
   "outputs": [],
   "execution_count": 18
  },
  {
   "metadata": {
    "ExecuteTime": {
     "end_time": "2024-09-21T08:41:24.733593Z",
     "start_time": "2024-09-21T08:41:21.753726Z"
    }
   },
   "cell_type": "code",
   "source": [
    "\n",
    "def create_file(file_path):\n",
    "    response = client.files.create(\n",
    "        file=open(file_path, \"rb\"),\n",
    "        purpose=\"fine-tune\"\n",
    "    )\n",
    "    return response.id\n",
    "\n",
    "train_id = create_file(file_path=TRAIN_OPENAI_FILE)\n",
    "val_id = create_file(file_path=VAL_OPENAI_FILE)\n",
    "\n",
    "response = client.fine_tuning.jobs.create(\n",
    "    training_file=train_id,\n",
    "    validation_file=val_id,\n",
    "    model=\"gpt-4o-mini-2024-07-18\"\n",
    ")\n",
    "response\n"
   ],
   "id": "4e317cf23633ba1e",
   "outputs": [
    {
     "data": {
      "text/plain": [
       "FineTuningJob(id='ftjob-qSU0sUSPt4GQ55w5DYdGseg6', created_at=1726908084, error=Error(code=None, message=None, param=None), fine_tuned_model=None, finished_at=None, hyperparameters=Hyperparameters(n_epochs='auto', batch_size='auto', learning_rate_multiplier='auto'), model='gpt-4o-mini-2024-07-18', object='fine_tuning.job', organization_id='org-bBHdSNHiFHSbkdpwXvV7ClOQ', result_files=[], seed=1884865724, status='validating_files', trained_tokens=None, training_file='file-xx3hiLBWSsPiP2MvMtLCkUmn', validation_file='file-KnUIViROvxQM3t1urZsiRV4j', estimated_finish=None, integrations=[], user_provided_suffix=None)"
      ]
     },
     "execution_count": 23,
     "metadata": {},
     "output_type": "execute_result"
    }
   ],
   "execution_count": 23
  },
  {
   "metadata": {
    "ExecuteTime": {
     "end_time": "2024-09-25T15:02:51.028329Z",
     "start_time": "2024-09-25T15:02:51.023593Z"
    }
   },
   "cell_type": "code",
   "source": [
    "\n",
    "MODEL_ID = \"ft:gpt-4o-mini-2024-07-18:drift::A9qEalcA\"\n",
    "\n",
    "# Function to make a request to your fine-tuned model\n",
    "def call_finetuned_model(prompt):\n",
    "    try:\n",
    "        # Call the completion endpoint with your fine-tuned model\n",
    "        response = client.chat.completions.create(\n",
    "            model=MODEL_ID,  # Use the fine-tuned model ID\n",
    "            messages=[    \n",
    "                {\"role\":\"system\", \"content\": SYSTEM_PROMPT},\n",
    "                {\"role\":\"user\", \"content\": prompt}\n",
    "            ],\n",
    "            logprobs=True,\n",
    "            top_logprobs=4,\n",
    "            temperature=0\n",
    "            \n",
    "        )\n",
    "        # Extract and return the generated text\n",
    "        # return response.choices[0].message.content.strip()\n",
    "        return response.choices[0]\n",
    "    \n",
    "    except Exception as e:\n",
    "        return f\"Error: {str(e)}\""
   ],
   "id": "fa741ffd51fe40a1",
   "outputs": [],
   "execution_count": 60
  },
  {
   "metadata": {
    "ExecuteTime": {
     "end_time": "2024-09-25T17:15:53.799041Z",
     "start_time": "2024-09-25T17:15:53.206378Z"
    }
   },
   "cell_type": "code",
   "source": [
    "prompt = \"\"\"Oh. My. God. \\n\\nCan this place really be real? The food here is absolutely INCREDIBLE! So delicious with EXTRA LARGE portions...like, share with a friend. Seriously. We ordered Andy's Sage Fried Chicken Benedict and the Chicken and Waffles and both dishes were to die for. Bacon strips placed inside of waffles?! How can you not be ok with that?? Bes thing ever. No complaints just super full bellies and an awkward waddle out the door. We had a 45 minute wait to be seated for a party of 5 but we just headed to O'Shea's downstairs to pass the time. Went by pretty quick and definitely worth the wait. The place is open 24 hours which is also a cool touch as it makes for great drunk and/or hungover food. Or just good food in general. Oh and don't forget to try the BLT Bloody Mary!!\"\"\"\n",
    "\n",
    "response=call_finetuned_model(prompt)\n",
    "response.message.content.strip(), response.logprobs.content[0].logprob"
   ],
   "id": "27268949ddb5fddd",
   "outputs": [
    {
     "data": {
      "text/plain": [
       "('5', -3.1281633e-07)"
      ]
     },
     "execution_count": 99,
     "metadata": {},
     "output_type": "execute_result"
    }
   ],
   "execution_count": 99
  },
  {
   "metadata": {
    "ExecuteTime": {
     "end_time": "2024-09-25T15:07:28.080806Z",
     "start_time": "2024-09-25T15:02:51.941159Z"
    }
   },
   "cell_type": "code",
   "source": [
    "# for each row in the test.csv file, take the question column and call the function call_finetuned_model\n",
    "# with the question as input and store the output in a new column called predicted_class_name\n",
    "df_test = pd.read_csv('test.csv')\n",
    "df_test['prediction'] = df_test['question'].apply(call_finetuned_model)\n",
    "df_test"
   ],
   "id": "69f2bf2dc5db1c69",
   "outputs": [
    {
     "data": {
      "text/plain": [
       "     class_name                                           question      id  \\\n",
       "0             5  Oh. My. God. \\n\\nCan this place really be real...  427563   \n",
       "1             3  The Golden Dragon has an east to find location...  353823   \n",
       "2             1  It was my first time boarding my dogs of 6yrs....  306553   \n",
       "3             4  Since my daughters favorite food is sushi, thi...  349159   \n",
       "4             2  I came in here on a Saturday morning a little ...  438984   \n",
       "..          ...                                                ...     ...   \n",
       "520           5  Just reviewing this club is distracting me eno...  365676   \n",
       "521           2  i like their chicken biryani. That's the only ...  303420   \n",
       "522           5  If you want authentic Greek food, this place i...  439190   \n",
       "523           5  I love, love, love how the California casino/h...  120345   \n",
       "524           3  Food is okay but so over rated, thai restauran...  154179   \n",
       "\n",
       "                                            prediction  \n",
       "0    Choice(finish_reason='stop', index=0, logprobs...  \n",
       "1    Choice(finish_reason='stop', index=0, logprobs...  \n",
       "2    Choice(finish_reason='stop', index=0, logprobs...  \n",
       "3    Choice(finish_reason='stop', index=0, logprobs...  \n",
       "4    Choice(finish_reason='stop', index=0, logprobs...  \n",
       "..                                                 ...  \n",
       "520  Choice(finish_reason='stop', index=0, logprobs...  \n",
       "521  Choice(finish_reason='stop', index=0, logprobs...  \n",
       "522  Choice(finish_reason='stop', index=0, logprobs...  \n",
       "523  Choice(finish_reason='stop', index=0, logprobs...  \n",
       "524  Choice(finish_reason='stop', index=0, logprobs...  \n",
       "\n",
       "[525 rows x 4 columns]"
      ],
      "text/html": [
       "<div>\n",
       "<style scoped>\n",
       "    .dataframe tbody tr th:only-of-type {\n",
       "        vertical-align: middle;\n",
       "    }\n",
       "\n",
       "    .dataframe tbody tr th {\n",
       "        vertical-align: top;\n",
       "    }\n",
       "\n",
       "    .dataframe thead th {\n",
       "        text-align: right;\n",
       "    }\n",
       "</style>\n",
       "<table border=\"1\" class=\"dataframe\">\n",
       "  <thead>\n",
       "    <tr style=\"text-align: right;\">\n",
       "      <th></th>\n",
       "      <th>class_name</th>\n",
       "      <th>question</th>\n",
       "      <th>id</th>\n",
       "      <th>prediction</th>\n",
       "    </tr>\n",
       "  </thead>\n",
       "  <tbody>\n",
       "    <tr>\n",
       "      <th>0</th>\n",
       "      <td>5</td>\n",
       "      <td>Oh. My. God. \\n\\nCan this place really be real...</td>\n",
       "      <td>427563</td>\n",
       "      <td>Choice(finish_reason='stop', index=0, logprobs...</td>\n",
       "    </tr>\n",
       "    <tr>\n",
       "      <th>1</th>\n",
       "      <td>3</td>\n",
       "      <td>The Golden Dragon has an east to find location...</td>\n",
       "      <td>353823</td>\n",
       "      <td>Choice(finish_reason='stop', index=0, logprobs...</td>\n",
       "    </tr>\n",
       "    <tr>\n",
       "      <th>2</th>\n",
       "      <td>1</td>\n",
       "      <td>It was my first time boarding my dogs of 6yrs....</td>\n",
       "      <td>306553</td>\n",
       "      <td>Choice(finish_reason='stop', index=0, logprobs...</td>\n",
       "    </tr>\n",
       "    <tr>\n",
       "      <th>3</th>\n",
       "      <td>4</td>\n",
       "      <td>Since my daughters favorite food is sushi, thi...</td>\n",
       "      <td>349159</td>\n",
       "      <td>Choice(finish_reason='stop', index=0, logprobs...</td>\n",
       "    </tr>\n",
       "    <tr>\n",
       "      <th>4</th>\n",
       "      <td>2</td>\n",
       "      <td>I came in here on a Saturday morning a little ...</td>\n",
       "      <td>438984</td>\n",
       "      <td>Choice(finish_reason='stop', index=0, logprobs...</td>\n",
       "    </tr>\n",
       "    <tr>\n",
       "      <th>...</th>\n",
       "      <td>...</td>\n",
       "      <td>...</td>\n",
       "      <td>...</td>\n",
       "      <td>...</td>\n",
       "    </tr>\n",
       "    <tr>\n",
       "      <th>520</th>\n",
       "      <td>5</td>\n",
       "      <td>Just reviewing this club is distracting me eno...</td>\n",
       "      <td>365676</td>\n",
       "      <td>Choice(finish_reason='stop', index=0, logprobs...</td>\n",
       "    </tr>\n",
       "    <tr>\n",
       "      <th>521</th>\n",
       "      <td>2</td>\n",
       "      <td>i like their chicken biryani. That's the only ...</td>\n",
       "      <td>303420</td>\n",
       "      <td>Choice(finish_reason='stop', index=0, logprobs...</td>\n",
       "    </tr>\n",
       "    <tr>\n",
       "      <th>522</th>\n",
       "      <td>5</td>\n",
       "      <td>If you want authentic Greek food, this place i...</td>\n",
       "      <td>439190</td>\n",
       "      <td>Choice(finish_reason='stop', index=0, logprobs...</td>\n",
       "    </tr>\n",
       "    <tr>\n",
       "      <th>523</th>\n",
       "      <td>5</td>\n",
       "      <td>I love, love, love how the California casino/h...</td>\n",
       "      <td>120345</td>\n",
       "      <td>Choice(finish_reason='stop', index=0, logprobs...</td>\n",
       "    </tr>\n",
       "    <tr>\n",
       "      <th>524</th>\n",
       "      <td>3</td>\n",
       "      <td>Food is okay but so over rated, thai restauran...</td>\n",
       "      <td>154179</td>\n",
       "      <td>Choice(finish_reason='stop', index=0, logprobs...</td>\n",
       "    </tr>\n",
       "  </tbody>\n",
       "</table>\n",
       "<p>525 rows × 4 columns</p>\n",
       "</div>"
      ]
     },
     "execution_count": 61,
     "metadata": {},
     "output_type": "execute_result"
    }
   ],
   "execution_count": 61
  },
  {
   "metadata": {
    "ExecuteTime": {
     "end_time": "2024-09-25T17:20:55.549622Z",
     "start_time": "2024-09-25T17:20:55.527653Z"
    }
   },
   "cell_type": "code",
   "source": [
    "df_test['predicted_class_name'] = df_test['prediction'].apply(lambda x: x.message.content.strip())\n",
    "df_test['predicted_class_logprob'] = df_test['prediction'].apply(lambda x: x.logprobs.content[0].logprob)\n",
    "df_test"
   ],
   "id": "bb9256e48adf5c9e",
   "outputs": [
    {
     "data": {
      "text/plain": [
       "     class_name                                           question      id  \\\n",
       "0             5  Oh. My. God. \\n\\nCan this place really be real...  427563   \n",
       "1             3  The Golden Dragon has an east to find location...  353823   \n",
       "2             1  It was my first time boarding my dogs of 6yrs....  306553   \n",
       "3             4  Since my daughters favorite food is sushi, thi...  349159   \n",
       "4             2  I came in here on a Saturday morning a little ...  438984   \n",
       "..          ...                                                ...     ...   \n",
       "520           5  Just reviewing this club is distracting me eno...  365676   \n",
       "521           2  i like their chicken biryani. That's the only ...  303420   \n",
       "522           5  If you want authentic Greek food, this place i...  439190   \n",
       "523           5  I love, love, love how the California casino/h...  120345   \n",
       "524           3  Food is okay but so over rated, thai restauran...  154179   \n",
       "\n",
       "                                            prediction predicted_class_name  \\\n",
       "0    Choice(finish_reason='stop', index=0, logprobs...                    5   \n",
       "1    Choice(finish_reason='stop', index=0, logprobs...                    3   \n",
       "2    Choice(finish_reason='stop', index=0, logprobs...                    1   \n",
       "3    Choice(finish_reason='stop', index=0, logprobs...                    4   \n",
       "4    Choice(finish_reason='stop', index=0, logprobs...                    1   \n",
       "..                                                 ...                  ...   \n",
       "520  Choice(finish_reason='stop', index=0, logprobs...                    5   \n",
       "521  Choice(finish_reason='stop', index=0, logprobs...                    2   \n",
       "522  Choice(finish_reason='stop', index=0, logprobs...                    5   \n",
       "523  Choice(finish_reason='stop', index=0, logprobs...                    5   \n",
       "524  Choice(finish_reason='stop', index=0, logprobs...                    2   \n",
       "\n",
       "     predicted_class_logprob  \n",
       "0              -4.320200e-07  \n",
       "1              -2.682780e-02  \n",
       "2              -7.609112e-04  \n",
       "3              -5.231245e-01  \n",
       "4              -4.277308e-02  \n",
       "..                       ...  \n",
       "520            -3.888926e-06  \n",
       "521            -2.287880e-03  \n",
       "522            -3.650519e-06  \n",
       "523            -3.362966e-04  \n",
       "524            -6.289472e-03  \n",
       "\n",
       "[525 rows x 6 columns]"
      ],
      "text/html": [
       "<div>\n",
       "<style scoped>\n",
       "    .dataframe tbody tr th:only-of-type {\n",
       "        vertical-align: middle;\n",
       "    }\n",
       "\n",
       "    .dataframe tbody tr th {\n",
       "        vertical-align: top;\n",
       "    }\n",
       "\n",
       "    .dataframe thead th {\n",
       "        text-align: right;\n",
       "    }\n",
       "</style>\n",
       "<table border=\"1\" class=\"dataframe\">\n",
       "  <thead>\n",
       "    <tr style=\"text-align: right;\">\n",
       "      <th></th>\n",
       "      <th>class_name</th>\n",
       "      <th>question</th>\n",
       "      <th>id</th>\n",
       "      <th>prediction</th>\n",
       "      <th>predicted_class_name</th>\n",
       "      <th>predicted_class_logprob</th>\n",
       "    </tr>\n",
       "  </thead>\n",
       "  <tbody>\n",
       "    <tr>\n",
       "      <th>0</th>\n",
       "      <td>5</td>\n",
       "      <td>Oh. My. God. \\n\\nCan this place really be real...</td>\n",
       "      <td>427563</td>\n",
       "      <td>Choice(finish_reason='stop', index=0, logprobs...</td>\n",
       "      <td>5</td>\n",
       "      <td>-4.320200e-07</td>\n",
       "    </tr>\n",
       "    <tr>\n",
       "      <th>1</th>\n",
       "      <td>3</td>\n",
       "      <td>The Golden Dragon has an east to find location...</td>\n",
       "      <td>353823</td>\n",
       "      <td>Choice(finish_reason='stop', index=0, logprobs...</td>\n",
       "      <td>3</td>\n",
       "      <td>-2.682780e-02</td>\n",
       "    </tr>\n",
       "    <tr>\n",
       "      <th>2</th>\n",
       "      <td>1</td>\n",
       "      <td>It was my first time boarding my dogs of 6yrs....</td>\n",
       "      <td>306553</td>\n",
       "      <td>Choice(finish_reason='stop', index=0, logprobs...</td>\n",
       "      <td>1</td>\n",
       "      <td>-7.609112e-04</td>\n",
       "    </tr>\n",
       "    <tr>\n",
       "      <th>3</th>\n",
       "      <td>4</td>\n",
       "      <td>Since my daughters favorite food is sushi, thi...</td>\n",
       "      <td>349159</td>\n",
       "      <td>Choice(finish_reason='stop', index=0, logprobs...</td>\n",
       "      <td>4</td>\n",
       "      <td>-5.231245e-01</td>\n",
       "    </tr>\n",
       "    <tr>\n",
       "      <th>4</th>\n",
       "      <td>2</td>\n",
       "      <td>I came in here on a Saturday morning a little ...</td>\n",
       "      <td>438984</td>\n",
       "      <td>Choice(finish_reason='stop', index=0, logprobs...</td>\n",
       "      <td>1</td>\n",
       "      <td>-4.277308e-02</td>\n",
       "    </tr>\n",
       "    <tr>\n",
       "      <th>...</th>\n",
       "      <td>...</td>\n",
       "      <td>...</td>\n",
       "      <td>...</td>\n",
       "      <td>...</td>\n",
       "      <td>...</td>\n",
       "      <td>...</td>\n",
       "    </tr>\n",
       "    <tr>\n",
       "      <th>520</th>\n",
       "      <td>5</td>\n",
       "      <td>Just reviewing this club is distracting me eno...</td>\n",
       "      <td>365676</td>\n",
       "      <td>Choice(finish_reason='stop', index=0, logprobs...</td>\n",
       "      <td>5</td>\n",
       "      <td>-3.888926e-06</td>\n",
       "    </tr>\n",
       "    <tr>\n",
       "      <th>521</th>\n",
       "      <td>2</td>\n",
       "      <td>i like their chicken biryani. That's the only ...</td>\n",
       "      <td>303420</td>\n",
       "      <td>Choice(finish_reason='stop', index=0, logprobs...</td>\n",
       "      <td>2</td>\n",
       "      <td>-2.287880e-03</td>\n",
       "    </tr>\n",
       "    <tr>\n",
       "      <th>522</th>\n",
       "      <td>5</td>\n",
       "      <td>If you want authentic Greek food, this place i...</td>\n",
       "      <td>439190</td>\n",
       "      <td>Choice(finish_reason='stop', index=0, logprobs...</td>\n",
       "      <td>5</td>\n",
       "      <td>-3.650519e-06</td>\n",
       "    </tr>\n",
       "    <tr>\n",
       "      <th>523</th>\n",
       "      <td>5</td>\n",
       "      <td>I love, love, love how the California casino/h...</td>\n",
       "      <td>120345</td>\n",
       "      <td>Choice(finish_reason='stop', index=0, logprobs...</td>\n",
       "      <td>5</td>\n",
       "      <td>-3.362966e-04</td>\n",
       "    </tr>\n",
       "    <tr>\n",
       "      <th>524</th>\n",
       "      <td>3</td>\n",
       "      <td>Food is okay but so over rated, thai restauran...</td>\n",
       "      <td>154179</td>\n",
       "      <td>Choice(finish_reason='stop', index=0, logprobs...</td>\n",
       "      <td>2</td>\n",
       "      <td>-6.289472e-03</td>\n",
       "    </tr>\n",
       "  </tbody>\n",
       "</table>\n",
       "<p>525 rows × 6 columns</p>\n",
       "</div>"
      ]
     },
     "execution_count": 100,
     "metadata": {},
     "output_type": "execute_result"
    }
   ],
   "execution_count": 100
  },
  {
   "metadata": {
    "ExecuteTime": {
     "end_time": "2024-09-25T17:21:08.379841Z",
     "start_time": "2024-09-25T17:21:08.372837Z"
    }
   },
   "cell_type": "code",
   "source": [
    "df_test[\"predicted_class_name\"] = pd.to_numeric(df_test[\"predicted_class_name\"], errors='coerce') \n",
    "df_test = df_test.dropna(subset=['predicted_class_name']) \n",
    "df_test['predicted_class_name'] = df_test['predicted_class_name'].astype(int) \n"
   ],
   "id": "3b83f11ee00e9a2a",
   "outputs": [],
   "execution_count": 101
  },
  {
   "metadata": {
    "ExecuteTime": {
     "end_time": "2024-09-25T17:21:09.163362Z",
     "start_time": "2024-09-25T17:21:09.157763Z"
    }
   },
   "cell_type": "code",
   "source": "df_test[\"predicted_class_name\"].unique()",
   "id": "124cbec08f03390f",
   "outputs": [
    {
     "data": {
      "text/plain": [
       "array([5, 3, 1, 4, 2])"
      ]
     },
     "execution_count": 102,
     "metadata": {},
     "output_type": "execute_result"
    }
   ],
   "execution_count": 102
  },
  {
   "metadata": {
    "ExecuteTime": {
     "end_time": "2024-09-25T18:21:29.244682Z",
     "start_time": "2024-09-25T18:21:28.804617Z"
    }
   },
   "cell_type": "code",
   "source": [
    "from datasets import load_metric\n",
    "\n",
    "metric = load_metric(\"accuracy\")\n",
    "accuracy = metric.compute(predictions=df_test['predicted_class_name'], references=df_test['class_name'])\n",
    "\n",
    "print(f\"Accuracy: {accuracy['accuracy']}\")"
   ],
   "id": "9d8ed2722c657e",
   "outputs": [
    {
     "name": "stdout",
     "output_type": "stream",
     "text": [
      "Accuracy: 0.6780952380952381\n"
     ]
    }
   ],
   "execution_count": 107
  },
  {
   "metadata": {},
   "cell_type": "code",
   "outputs": [],
   "execution_count": null,
   "source": "",
   "id": "12cae97eeba8f96a"
  }
 ],
 "metadata": {
  "kernelspec": {
   "display_name": "Python 3",
   "language": "python",
   "name": "python3"
  },
  "language_info": {
   "codemirror_mode": {
    "name": "ipython",
    "version": 2
   },
   "file_extension": ".py",
   "mimetype": "text/x-python",
   "name": "python",
   "nbconvert_exporter": "python",
   "pygments_lexer": "ipython2",
   "version": "2.7.6"
  }
 },
 "nbformat": 4,
 "nbformat_minor": 5
}
