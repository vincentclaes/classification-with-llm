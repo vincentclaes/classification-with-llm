{
 "cells": [
  {
   "cell_type": "markdown",
   "id": "92df03fed992a88f",
   "metadata": {},
   "source": [
    "# Prepare the dataset\n",
    "\n",
    "We load a dataset with messages from customers that are assigned to different categories (invoices, orders, etc.)\n",
    "\n",
    "We will use this dataset to tune a prompt that can classify a message into one of these categories, with an accuracy as high as possible.\n",
    "\n",
    "https://huggingface.co/datasets/bitext/Bitext-customer-support-llm-chatbot-training-dataset"
   ]
  },
  {
   "cell_type": "code",
   "execution_count": 2,
   "id": "223b89b2ca7e9a58",
   "metadata": {
    "ExecuteTime": {
     "end_time": "2024-09-21T07:30:32.924457Z",
     "start_time": "2024-09-21T07:30:31.112769Z"
    }
   },
   "outputs": [
    {
     "name": "stdout",
     "output_type": "stream",
     "text": [
      "Note: you may need to restart the kernel to use updated packages.\n"
     ]
    }
   ],
   "source": [
    "pip install 'datasets<3' --quiet"
   ]
  },
  {
   "cell_type": "code",
   "execution_count": 3,
   "id": "d7d021e458c3c3",
   "metadata": {
    "ExecuteTime": {
     "end_time": "2024-09-21T08:15:47.338736Z",
     "start_time": "2024-09-21T08:15:01.736307Z"
    }
   },
   "outputs": [
    {
     "data": {
      "application/vnd.jupyter.widget-view+json": {
       "model_id": "4bf51c0ce7044c798e4af40316509d40",
       "version_major": 2,
       "version_minor": 0
      },
      "text/plain": [
       "Downloading readme:   0%|          | 0.00/6.72k [00:00<?, ?B/s]"
      ]
     },
     "metadata": {},
     "output_type": "display_data"
    },
    {
     "data": {
      "application/vnd.jupyter.widget-view+json": {
       "model_id": "8d5725294222488895b72116b734c5ab",
       "version_major": 2,
       "version_minor": 0
      },
      "text/plain": [
       "Downloading data:   0%|          | 0.00/299M [00:00<?, ?B/s]"
      ]
     },
     "metadata": {},
     "output_type": "display_data"
    },
    {
     "data": {
      "application/vnd.jupyter.widget-view+json": {
       "model_id": "c47225fc660c4346b0b96eae5aabafed",
       "version_major": 2,
       "version_minor": 0
      },
      "text/plain": [
       "Downloading data:   0%|          | 0.00/23.5M [00:00<?, ?B/s]"
      ]
     },
     "metadata": {},
     "output_type": "display_data"
    },
    {
     "data": {
      "application/vnd.jupyter.widget-view+json": {
       "model_id": "07af4707eada4f379da950ac45db4fbe",
       "version_major": 2,
       "version_minor": 0
      },
      "text/plain": [
       "Generating train split:   0%|          | 0/650000 [00:00<?, ? examples/s]"
      ]
     },
     "metadata": {},
     "output_type": "display_data"
    },
    {
     "data": {
      "application/vnd.jupyter.widget-view+json": {
       "model_id": "3a768335a4404816bc8e10332a95714e",
       "version_major": 2,
       "version_minor": 0
      },
      "text/plain": [
       "Generating test split:   0%|          | 0/50000 [00:00<?, ? examples/s]"
      ]
     },
     "metadata": {},
     "output_type": "display_data"
    },
    {
     "data": {
      "text/plain": [
       "Dataset({\n",
       "    features: ['label', 'text'],\n",
       "    num_rows: 650000\n",
       "})"
      ]
     },
     "execution_count": 3,
     "metadata": {},
     "output_type": "execute_result"
    }
   ],
   "source": [
    "from datasets import load_dataset\n",
    "\n",
    "dataset = load_dataset(\"Yelp/yelp_review_full\", split=\"train\")\n",
    "dataset"
   ]
  },
  {
   "cell_type": "code",
   "execution_count": 4,
   "id": "64c2e44f29136c4d",
   "metadata": {
    "ExecuteTime": {
     "end_time": "2024-09-21T08:25:47.020885Z",
     "start_time": "2024-09-21T08:25:46.575458Z"
    }
   },
   "outputs": [
    {
     "data": {
      "text/plain": [
       "[0, 1, 2, 3, 4]"
      ]
     },
     "execution_count": 4,
     "metadata": {},
     "output_type": "execute_result"
    }
   ],
   "source": [
    "CLASSES = list(set(dataset['label']))\n",
    "CLASSES"
   ]
  },
  {
   "cell_type": "markdown",
   "id": "78fd66a84cc278ba",
   "metadata": {},
   "source": [
    "### CONSTANTS"
   ]
  },
  {
   "cell_type": "code",
   "execution_count": 5,
   "id": "5a2b8a06a24010d5",
   "metadata": {
    "ExecuteTime": {
     "end_time": "2024-09-21T08:25:48.136593Z",
     "start_time": "2024-09-21T08:25:48.131554Z"
    }
   },
   "outputs": [],
   "source": [
    "N = 200 # Number of samples per class / label\n",
    "TRAIN_TEST_SPLIT = 0.75 # split dataset in trian and test\n",
    "TEST_VAL_SPLIT = 0.7 # spit test in test and validation"
   ]
  },
  {
   "cell_type": "code",
   "execution_count": 6,
   "id": "6b235bc7ea437e45",
   "metadata": {
    "ExecuteTime": {
     "end_time": "2024-09-21T08:26:11.400357Z",
     "start_time": "2024-09-21T08:25:49.460680Z"
    }
   },
   "outputs": [
    {
     "name": "stdout",
     "output_type": "stream",
     "text": [
      "label\n",
      "1    200\n",
      "2    200\n",
      "3    200\n",
      "4    200\n",
      "5    200\n",
      "Name: count, dtype: int64\n"
     ]
    },
    {
     "name": "stderr",
     "output_type": "stream",
     "text": [
      "/tmp/ipykernel_6403/2169729871.py:13: DeprecationWarning: DataFrameGroupBy.apply operated on the grouping columns. This behavior is deprecated, and in a future version of pandas the grouping columns will be excluded from the operation. Either pass `include_groups=False` to exclude the groupings or explicitly select the grouping columns after groupby to silence this warning.\n",
      "  sampled_df = grouped.apply(lambda x: x.sample(n=N, random_state=42)).reset_index(drop=True)\n"
     ]
    }
   ],
   "source": [
    "import pandas as pd\n",
    "from datasets import Dataset\n",
    "\n",
    "# Convert the dataset to a pandas DataFrame\n",
    "df = pd.DataFrame(dataset)\n",
    "# Add an id column\n",
    "df = df.reset_index(drop=False).rename(columns={'index': 'id'})\n",
    "# Increment each value in the label column by 1\n",
    "df['label'] = df['label'] + 1\n",
    "# Group by the label column\n",
    "grouped = df.groupby(\"label\")\n",
    "# Sample 100 records from each label (adjust N as needed)\n",
    "sampled_df = grouped.apply(lambda x: x.sample(n=N, random_state=42)).reset_index(drop=True)\n",
    "# Convert the sampled DataFrame back to a Hugging Face dataset\n",
    "sampled_dataset = Dataset.from_pandas(sampled_df)\n",
    "# Print the value counts of the label column\n",
    "print(sampled_df['label'].value_counts())\n",
    "# Shuffle the dataset\n",
    "shuffled_dataset = sampled_dataset.shuffle()\n"
   ]
  },
  {
   "cell_type": "markdown",
   "id": "59fae02c4a0559d",
   "metadata": {},
   "source": [
    "Select only the relevant columns and rename them according to the class ClassificationDataClass"
   ]
  },
  {
   "cell_type": "code",
   "execution_count": 8,
   "id": "initial_id",
   "metadata": {
    "ExecuteTime": {
     "end_time": "2024-09-21T08:26:11.477531Z",
     "start_time": "2024-09-21T08:26:11.403115Z"
    },
    "collapsed": true
   },
   "outputs": [
    {
     "data": {
      "application/vnd.jupyter.widget-view+json": {
       "model_id": "77b07664203f49e09b2bb7246e0bca6b",
       "version_major": 2,
       "version_minor": 0
      },
      "text/plain": [
       "Creating CSV from Arrow format:   0%|          | 0/1 [00:00<?, ?ba/s]"
      ]
     },
     "metadata": {},
     "output_type": "display_data"
    },
    {
     "data": {
      "text/plain": [
       "Dataset({\n",
       "    features: ['class_name', 'question', 'id'],\n",
       "    num_rows: 1000\n",
       "})"
      ]
     },
     "execution_count": 8,
     "metadata": {},
     "output_type": "execute_result"
    }
   ],
   "source": [
    "selected_cols_dataset = shuffled_dataset.select_columns(['label', 'text','id'])\n",
    "renamed_dataset = selected_cols_dataset.rename_column('label', 'class_name').rename_column('text', 'question')\n",
    "full_dataset = renamed_dataset\n",
    "full_dataset.to_csv('full_dataset.csv')\n",
    "full_dataset"
   ]
  },
  {
   "cell_type": "code",
   "execution_count": 9,
   "id": "253f6caf178a8f66",
   "metadata": {
    "ExecuteTime": {
     "end_time": "2024-09-21T08:26:11.597862Z",
     "start_time": "2024-09-21T08:26:11.480630Z"
    }
   },
   "outputs": [
    {
     "data": {
      "application/vnd.jupyter.widget-view+json": {
       "model_id": "5dd90dbc5a3e4bda8412fda265f4e869",
       "version_major": 2,
       "version_minor": 0
      },
      "text/plain": [
       "Creating CSV from Arrow format:   0%|          | 0/1 [00:00<?, ?ba/s]"
      ]
     },
     "metadata": {},
     "output_type": "display_data"
    },
    {
     "data": {
      "application/vnd.jupyter.widget-view+json": {
       "model_id": "d4a0931767d846368f0a3d087d620642",
       "version_major": 2,
       "version_minor": 0
      },
      "text/plain": [
       "Creating CSV from Arrow format:   0%|          | 0/1 [00:00<?, ?ba/s]"
      ]
     },
     "metadata": {},
     "output_type": "display_data"
    },
    {
     "data": {
      "application/vnd.jupyter.widget-view+json": {
       "model_id": "4aaebefe2db34684bc39d4b5f3d1e834",
       "version_major": 2,
       "version_minor": 0
      },
      "text/plain": [
       "Creating CSV from Arrow format:   0%|          | 0/1 [00:00<?, ?ba/s]"
      ]
     },
     "metadata": {},
     "output_type": "display_data"
    },
    {
     "data": {
      "text/plain": [
       "397555"
      ]
     },
     "execution_count": 9,
     "metadata": {},
     "output_type": "execute_result"
    }
   ],
   "source": [
    "# Split the dataset into train and test (70% train, 30% test)\n",
    "train_test_split = full_dataset.train_test_split(test_size=TRAIN_TEST_SPLIT)\n",
    "# Further split the test set into validation and test sets (50% validation, 50% test)\n",
    "val_test_split = train_test_split['test'].train_test_split(test_size=TEST_VAL_SPLIT)\n",
    "\n",
    "train = train_test_split['train']\n",
    "train.to_csv('train.csv')\n",
    "val = val_test_split['train']\n",
    "val.to_csv('val.csv')\n",
    "test = val_test_split['test']\n",
    "test.to_csv('test.csv')\n"
   ]
  },
  {
   "cell_type": "code",
   "execution_count": 10,
   "id": "40f29295d65e603f",
   "metadata": {
    "ExecuteTime": {
     "end_time": "2024-09-21T08:26:11.617684Z",
     "start_time": "2024-09-21T08:26:11.606096Z"
    }
   },
   "outputs": [
    {
     "data": {
      "text/plain": [
       "class_name\n",
       "1    60\n",
       "4    55\n",
       "5    48\n",
       "3    44\n",
       "2    43\n",
       "Name: count, dtype: int64"
      ]
     },
     "execution_count": 10,
     "metadata": {},
     "output_type": "execute_result"
    }
   ],
   "source": [
    "train.to_pandas()[\"class_name\"].value_counts()"
   ]
  },
  {
   "cell_type": "code",
   "execution_count": 11,
   "id": "a71fb05ca1428e51",
   "metadata": {
    "ExecuteTime": {
     "end_time": "2024-09-21T08:26:11.633480Z",
     "start_time": "2024-09-21T08:26:11.620047Z"
    }
   },
   "outputs": [
    {
     "data": {
      "text/plain": [
       "class_name\n",
       "1    50\n",
       "5    50\n",
       "2    48\n",
       "3    41\n",
       "4    36\n",
       "Name: count, dtype: int64"
      ]
     },
     "execution_count": 11,
     "metadata": {},
     "output_type": "execute_result"
    }
   ],
   "source": [
    "val.to_pandas()[\"class_name\"].value_counts()"
   ]
  },
  {
   "cell_type": "code",
   "execution_count": 12,
   "id": "c8fa4dd168e49527",
   "metadata": {
    "ExecuteTime": {
     "end_time": "2024-09-21T08:26:11.646495Z",
     "start_time": "2024-09-21T08:26:11.635866Z"
    }
   },
   "outputs": [
    {
     "data": {
      "text/plain": [
       "class_name\n",
       "3    115\n",
       "2    109\n",
       "4    109\n",
       "5    102\n",
       "1     90\n",
       "Name: count, dtype: int64"
      ]
     },
     "execution_count": 12,
     "metadata": {},
     "output_type": "execute_result"
    }
   ],
   "source": [
    "test.to_pandas()[\"class_name\"].value_counts()"
   ]
  },
  {
   "cell_type": "code",
   "execution_count": null,
   "id": "e1607d5ac5eac44d",
   "metadata": {},
   "outputs": [],
   "source": []
  }
 ],
 "metadata": {
  "kernelspec": {
   "display_name": "Python 3",
   "language": "python",
   "name": "python3"
  },
  "language_info": {
   "codemirror_mode": {
    "name": "ipython",
    "version": 3
   },
   "file_extension": ".py",
   "mimetype": "text/x-python",
   "name": "python",
   "nbconvert_exporter": "python",
   "pygments_lexer": "ipython3",
   "version": "3.11.10"
  }
 },
 "nbformat": 4,
 "nbformat_minor": 5
}
