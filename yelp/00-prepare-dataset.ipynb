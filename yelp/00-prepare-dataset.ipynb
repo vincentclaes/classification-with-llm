{
 "cells": [
  {
   "metadata": {},
   "cell_type": "markdown",
   "source": [
    "# Prepare the dataset\n",
    "\n",
    "We load a dataset with messages from customers that are assigned to different categories (invoices, orders, etc.)\n",
    "\n",
    "We will use this dataset to tune a prompt that can classify a message into one of these categories, with an accuracy as high as possible.\n",
    "\n",
    "https://huggingface.co/datasets/bitext/Bitext-customer-support-llm-chatbot-training-dataset"
   ],
   "id": "92df03fed992a88f"
  },
  {
   "metadata": {
    "ExecuteTime": {
     "end_time": "2024-09-21T07:30:32.924457Z",
     "start_time": "2024-09-21T07:30:31.112769Z"
    }
   },
   "cell_type": "code",
   "source": "pip install datasets --quiet",
   "id": "223b89b2ca7e9a58",
   "outputs": [
    {
     "name": "stdout",
     "output_type": "stream",
     "text": [
      "Note: you may need to restart the kernel to use updated packages.\n"
     ]
    }
   ],
   "execution_count": 1
  },
  {
   "metadata": {
    "ExecuteTime": {
     "end_time": "2024-09-21T08:15:47.338736Z",
     "start_time": "2024-09-21T08:15:01.736307Z"
    }
   },
   "cell_type": "code",
   "source": [
    "from datasets import load_dataset\n",
    "\n",
    "dataset = load_dataset(\"Yelp/yelp_review_full\", split=\"train\")\n",
    "dataset"
   ],
   "id": "d7d021e458c3c3",
   "outputs": [
    {
     "data": {
      "text/plain": [
       "Downloading readme:   0%|          | 0.00/6.72k [00:00<?, ?B/s]"
      ],
      "application/vnd.jupyter.widget-view+json": {
       "version_major": 2,
       "version_minor": 0,
       "model_id": "b8aab4bb5d174b659e71ea14215ff741"
      }
     },
     "metadata": {},
     "output_type": "display_data"
    },
    {
     "data": {
      "text/plain": [
       "Downloading data:   0%|          | 0.00/299M [00:00<?, ?B/s]"
      ],
      "application/vnd.jupyter.widget-view+json": {
       "version_major": 2,
       "version_minor": 0,
       "model_id": "9c1f3558b6284afcb771cdc35df0e926"
      }
     },
     "metadata": {},
     "output_type": "display_data"
    },
    {
     "data": {
      "text/plain": [
       "Downloading data:   0%|          | 0.00/23.5M [00:00<?, ?B/s]"
      ],
      "application/vnd.jupyter.widget-view+json": {
       "version_major": 2,
       "version_minor": 0,
       "model_id": "270abc9e042849a0bec9a0b790f98af4"
      }
     },
     "metadata": {},
     "output_type": "display_data"
    },
    {
     "data": {
      "text/plain": [
       "Generating train split:   0%|          | 0/650000 [00:00<?, ? examples/s]"
      ],
      "application/vnd.jupyter.widget-view+json": {
       "version_major": 2,
       "version_minor": 0,
       "model_id": "90cc3fa98cd349af94208ddd3c6d5355"
      }
     },
     "metadata": {},
     "output_type": "display_data"
    },
    {
     "data": {
      "text/plain": [
       "Generating test split:   0%|          | 0/50000 [00:00<?, ? examples/s]"
      ],
      "application/vnd.jupyter.widget-view+json": {
       "version_major": 2,
       "version_minor": 0,
       "model_id": "4e9518a930a34c3687df5608173a6fbb"
      }
     },
     "metadata": {},
     "output_type": "display_data"
    },
    {
     "data": {
      "text/plain": [
       "Dataset({\n",
       "    features: ['label', 'text'],\n",
       "    num_rows: 650000\n",
       "})"
      ]
     },
     "execution_count": 2,
     "metadata": {},
     "output_type": "execute_result"
    }
   ],
   "execution_count": 2
  },
  {
   "metadata": {
    "ExecuteTime": {
     "end_time": "2024-09-21T08:25:47.020885Z",
     "start_time": "2024-09-21T08:25:46.575458Z"
    }
   },
   "cell_type": "code",
   "source": [
    "CLASSES = list(set(dataset['label']))\n",
    "CLASSES"
   ],
   "id": "64c2e44f29136c4d",
   "outputs": [
    {
     "data": {
      "text/plain": [
       "[0, 1, 2, 3, 4]"
      ]
     },
     "execution_count": 11,
     "metadata": {},
     "output_type": "execute_result"
    }
   ],
   "execution_count": 11
  },
  {
   "metadata": {},
   "cell_type": "markdown",
   "source": "### CONSTANTS",
   "id": "78fd66a84cc278ba"
  },
  {
   "metadata": {
    "ExecuteTime": {
     "end_time": "2024-09-21T08:25:48.136593Z",
     "start_time": "2024-09-21T08:25:48.131554Z"
    }
   },
   "cell_type": "code",
   "source": [
    "N = 200 # Number of samples per class / label\n",
    "TRAIN_TEST_SPLIT = 0.75 # split dataset in trian and test\n",
    "TEST_VAL_SPLIT = 0.7 # spit test in test and validation"
   ],
   "id": "5a2b8a06a24010d5",
   "outputs": [],
   "execution_count": 12
  },
  {
   "metadata": {
    "ExecuteTime": {
     "end_time": "2024-09-21T08:26:11.400357Z",
     "start_time": "2024-09-21T08:25:49.460680Z"
    }
   },
   "cell_type": "code",
   "source": [
    "import pandas as pd\n",
    "from datasets import Dataset\n",
    "\n",
    "# Convert the dataset to a pandas DataFrame\n",
    "df = pd.DataFrame(dataset)\n",
    "# Add an id column\n",
    "df = df.reset_index(drop=False).rename(columns={'index': 'id'})\n",
    "# Increment each value in the label column by 1\n",
    "df['label'] = df['label'] + 1\n",
    "# Group by the label column\n",
    "grouped = df.groupby(\"label\")\n",
    "# Sample 100 records from each label (adjust N as needed)\n",
    "sampled_df = grouped.apply(lambda x: x.sample(n=N, random_state=42)).reset_index(drop=True)\n",
    "# Convert the sampled DataFrame back to a Hugging Face dataset\n",
    "sampled_dataset = Dataset.from_pandas(sampled_df)\n",
    "# Print the value counts of the label column\n",
    "print(sampled_df['label'].value_counts())\n",
    "# Shuffle the dataset\n",
    "shuffled_dataset = sampled_dataset.shuffle()\n"
   ],
   "id": "6b235bc7ea437e45",
   "outputs": [
    {
     "name": "stdout",
     "output_type": "stream",
     "text": [
      "label\n",
      "1    200\n",
      "2    200\n",
      "3    200\n",
      "4    200\n",
      "5    200\n",
      "Name: count, dtype: int64\n"
     ]
    },
    {
     "name": "stderr",
     "output_type": "stream",
     "text": [
      "/var/folders/sj/3t0z94yj4m12rfbjsb8x5j5r0000gn/T/ipykernel_75982/2045308681.py:13: DeprecationWarning: DataFrameGroupBy.apply operated on the grouping columns. This behavior is deprecated, and in a future version of pandas the grouping columns will be excluded from the operation. Either pass `include_groups=False` to exclude the groupings or explicitly select the grouping columns after groupby to silence this warning.\n",
      "  sampled_df = grouped.apply(lambda x: x.sample(n=N, random_state=42)).reset_index(drop=True)\n"
     ]
    }
   ],
   "execution_count": 13
  },
  {
   "metadata": {},
   "cell_type": "markdown",
   "source": "Select only the relevant columns and rename them according to the class ClassificationDataClass",
   "id": "59fae02c4a0559d"
  },
  {
   "cell_type": "code",
   "id": "initial_id",
   "metadata": {
    "collapsed": true,
    "ExecuteTime": {
     "end_time": "2024-09-21T08:26:11.477531Z",
     "start_time": "2024-09-21T08:26:11.403115Z"
    }
   },
   "source": [
    "selected_cols_dataset = shuffled_dataset.select_columns(['label', 'text','id'])\n",
    "renamed_dataset = selected_cols_dataset.rename_column('label', 'class_name').rename_column('text', 'question')\n",
    "full_dataset = renamed_dataset\n",
    "full_dataset.to_csv('full_dataset.csv')\n",
    "full_dataset"
   ],
   "outputs": [
    {
     "data": {
      "text/plain": [
       "Creating CSV from Arrow format:   0%|          | 0/1 [00:00<?, ?ba/s]"
      ],
      "application/vnd.jupyter.widget-view+json": {
       "version_major": 2,
       "version_minor": 0,
       "model_id": "4d8253101ce44a0f8dbae9769fe95dcf"
      }
     },
     "metadata": {},
     "output_type": "display_data"
    },
    {
     "data": {
      "text/plain": [
       "Dataset({\n",
       "    features: ['class_name', 'question', 'id'],\n",
       "    num_rows: 1000\n",
       "})"
      ]
     },
     "execution_count": 14,
     "metadata": {},
     "output_type": "execute_result"
    }
   ],
   "execution_count": 14
  },
  {
   "metadata": {
    "ExecuteTime": {
     "end_time": "2024-09-21T08:26:11.597862Z",
     "start_time": "2024-09-21T08:26:11.480630Z"
    }
   },
   "cell_type": "code",
   "source": [
    "# Split the dataset into train and test (70% train, 30% test)\n",
    "train_test_split = full_dataset.train_test_split(test_size=TRAIN_TEST_SPLIT)\n",
    "# Further split the test set into validation and test sets (50% validation, 50% test)\n",
    "val_test_split = train_test_split['test'].train_test_split(test_size=TEST_VAL_SPLIT)\n",
    "\n",
    "train = train_test_split['train']\n",
    "train.to_csv('train.csv')\n",
    "val = val_test_split['train']\n",
    "val.to_csv('val.csv')\n",
    "test = val_test_split['test']\n",
    "test.to_csv('test.csv')\n"
   ],
   "id": "253f6caf178a8f66",
   "outputs": [
    {
     "data": {
      "text/plain": [
       "Creating CSV from Arrow format:   0%|          | 0/1 [00:00<?, ?ba/s]"
      ],
      "application/vnd.jupyter.widget-view+json": {
       "version_major": 2,
       "version_minor": 0,
       "model_id": "71f3b677ab7349ae8264b77652ddc3fc"
      }
     },
     "metadata": {},
     "output_type": "display_data"
    },
    {
     "data": {
      "text/plain": [
       "Creating CSV from Arrow format:   0%|          | 0/1 [00:00<?, ?ba/s]"
      ],
      "application/vnd.jupyter.widget-view+json": {
       "version_major": 2,
       "version_minor": 0,
       "model_id": "d04fb695c24c469490d3343b6ee105eb"
      }
     },
     "metadata": {},
     "output_type": "display_data"
    },
    {
     "data": {
      "text/plain": [
       "Creating CSV from Arrow format:   0%|          | 0/1 [00:00<?, ?ba/s]"
      ],
      "application/vnd.jupyter.widget-view+json": {
       "version_major": 2,
       "version_minor": 0,
       "model_id": "7774a96aacc34dea9f96ef850787fa44"
      }
     },
     "metadata": {},
     "output_type": "display_data"
    },
    {
     "data": {
      "text/plain": [
       "367594"
      ]
     },
     "execution_count": 15,
     "metadata": {},
     "output_type": "execute_result"
    }
   ],
   "execution_count": 15
  },
  {
   "metadata": {
    "ExecuteTime": {
     "end_time": "2024-09-21T08:26:11.617684Z",
     "start_time": "2024-09-21T08:26:11.606096Z"
    }
   },
   "cell_type": "code",
   "source": "train.to_pandas()[\"class_name\"].value_counts()",
   "id": "40f29295d65e603f",
   "outputs": [
    {
     "data": {
      "text/plain": [
       "class_name\n",
       "1    53\n",
       "3    52\n",
       "5    52\n",
       "2    48\n",
       "4    45\n",
       "Name: count, dtype: int64"
      ]
     },
     "execution_count": 16,
     "metadata": {},
     "output_type": "execute_result"
    }
   ],
   "execution_count": 16
  },
  {
   "metadata": {
    "ExecuteTime": {
     "end_time": "2024-09-21T08:26:11.633480Z",
     "start_time": "2024-09-21T08:26:11.620047Z"
    }
   },
   "cell_type": "code",
   "source": "val.to_pandas()[\"class_name\"].value_counts()",
   "id": "a71fb05ca1428e51",
   "outputs": [
    {
     "data": {
      "text/plain": [
       "class_name\n",
       "3    51\n",
       "4    49\n",
       "2    42\n",
       "5    42\n",
       "1    41\n",
       "Name: count, dtype: int64"
      ]
     },
     "execution_count": 17,
     "metadata": {},
     "output_type": "execute_result"
    }
   ],
   "execution_count": 17
  },
  {
   "metadata": {
    "ExecuteTime": {
     "end_time": "2024-09-21T08:26:11.646495Z",
     "start_time": "2024-09-21T08:26:11.635866Z"
    }
   },
   "cell_type": "code",
   "source": "test.to_pandas()[\"class_name\"].value_counts()",
   "id": "c8fa4dd168e49527",
   "outputs": [
    {
     "data": {
      "text/plain": [
       "class_name\n",
       "2    110\n",
       "5    106\n",
       "1    106\n",
       "4    106\n",
       "3     97\n",
       "Name: count, dtype: int64"
      ]
     },
     "execution_count": 18,
     "metadata": {},
     "output_type": "execute_result"
    }
   ],
   "execution_count": 18
  },
  {
   "metadata": {},
   "cell_type": "code",
   "outputs": [],
   "execution_count": null,
   "source": "",
   "id": "e1607d5ac5eac44d"
  }
 ],
 "metadata": {
  "kernelspec": {
   "display_name": "Python 3",
   "language": "python",
   "name": "python3"
  },
  "language_info": {
   "codemirror_mode": {
    "name": "ipython",
    "version": 2
   },
   "file_extension": ".py",
   "mimetype": "text/x-python",
   "name": "python",
   "nbconvert_exporter": "python",
   "pygments_lexer": "ipython2",
   "version": "2.7.6"
  }
 },
 "nbformat": 4,
 "nbformat_minor": 5
}
